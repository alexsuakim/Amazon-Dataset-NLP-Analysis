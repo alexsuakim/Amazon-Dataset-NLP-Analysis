{
  "cells": [
    {
      "attachments": {},
      "cell_type": "markdown",
      "metadata": {
        "colab_type": "text",
        "id": "view-in-github"
      },
      "source": [
        "<a href=\"https://colab.research.google.com/github/Ivan-KKH/APAI4011_GP/blob/master/model2.ipynb\" target=\"_parent\"><img src=\"https://colab.research.google.com/assets/colab-badge.svg\" alt=\"Open In Colab\"/></a>"
      ]
    },
    {
      "cell_type": "code",
      "execution_count": 1,
      "metadata": {
        "colab": {
          "base_uri": "https://localhost:8080/"
        },
        "id": "C6mjywwLS141",
        "outputId": "eaeb8b86-98bf-4a65-ed13-fa99477933b4"
      },
      "outputs": [],
      "source": [
        "#install\n",
        "!pip install -q transformers"
      ]
    },
    {
      "cell_type": "code",
      "execution_count": 2,
      "metadata": {
        "id": "d6tVsqbFTDDM"
      },
      "outputs": [
        {
          "name": "stderr",
          "output_type": "stream",
          "text": [
            "2023-05-07 08:07:43.496196: I tensorflow/tsl/cuda/cudart_stub.cc:28] Could not find cuda drivers on your machine, GPU will not be used.\n",
            "2023-05-07 08:07:43.539746: I tensorflow/tsl/cuda/cudart_stub.cc:28] Could not find cuda drivers on your machine, GPU will not be used.\n",
            "2023-05-07 08:07:43.540314: I tensorflow/core/platform/cpu_feature_guard.cc:182] This TensorFlow binary is optimized to use available CPU instructions in performance-critical operations.\n",
            "To enable the following instructions: AVX2 AVX512F FMA, in other operations, rebuild TensorFlow with the appropriate compiler flags.\n",
            "2023-05-07 08:07:44.088742: W tensorflow/compiler/tf2tensorrt/utils/py_utils.cc:38] TF-TRT Warning: Could not find TensorRT\n"
          ]
        }
      ],
      "source": [
        "#import libraries\n",
        "import numpy as np\n",
        "import pandas as pd\n",
        "from transformers import pipeline\n",
        "#from google.colab import files\n",
        "import io\n",
        "import re\n",
        "from tqdm import tqdm\n",
        "from sklearn.model_selection import train_test_split\n",
        "import math\n",
        "import warnings\n",
        "warnings.filterwarnings(\"ignore\")"
      ]
    },
    {
      "cell_type": "code",
      "execution_count": 3,
      "metadata": {
        "colab": {
          "base_uri": "https://localhost:8080/",
          "height": 76
        },
        "id": "Lf0p4D6PUO-n",
        "outputId": "8c612911-e92f-4e09-f1dc-3dadad55a164"
      },
      "outputs": [],
      "source": [
        "#import CSV file\n",
        "#uploaded = files.upload()\n"
      ]
    },
    {
      "cell_type": "code",
      "execution_count": 4,
      "metadata": {
        "colab": {
          "base_uri": "https://localhost:8080/"
        },
        "id": "ihANVknoWmCD",
        "outputId": "31f9ab33-bde7-4594-8475-ae0b2cbb8549"
      },
      "outputs": [
        {
          "data": {
            "text/plain": [
              "0       satisfied charging is really fast value for mo...\n",
              "1       a good braided cable for your type c device go...\n",
              "2       good speed for earlier versions good product w...\n",
              "3       good product good one nice really nice product...\n",
              "4       as good as original decent good one for second...\n",
              "                              ...                        \n",
              "1460    received the product without spanner excellent...\n",
              "1461    ok everything was good couldn t return bcoz i ...\n",
              "1462    very good work but front melt after 2 month go...\n",
              "1463    fan speed is slow good quality good product go...\n",
              "1464    works perfect ok good product nice product  re...\n",
              "Name: combined, Length: 1465, dtype: object"
            ]
          },
          "execution_count": 4,
          "metadata": {},
          "output_type": "execute_result"
        }
      ],
      "source": [
        "#read csv file\n",
        "#df = pd.read_csv(io.BytesIO(uploaded['amazon.csv']))\n",
        "df = pd.read_csv('amazon.csv')\n",
        "\n",
        "#dfReview for review product name and product description\n",
        "dfText = df[['review_title', 'review_content']]\n",
        "\n",
        "#preprocess text data\n",
        "for column in range(2):\n",
        "    dfText.iloc[:,column] = dfText.iloc[:,column].apply(lambda x: x.lower())\n",
        "    dfText.iloc[:,column] = dfText.iloc[:,column].apply((lambda x: re.sub(r\"http\\S+\",\" \",x)))\n",
        "    dfText.iloc[:,column] = dfText.iloc[:,column].apply((lambda x: re.sub('[^a-zA-z0-9\\s]',\" \",x)))\n",
        "\n",
        "#combine product_name and about_product\n",
        "dfText['combined'] = dfText['review_title'] + ' ' + dfText['review_content']\n",
        "dfText['combined']"
      ]
    },
    {
      "cell_type": "code",
      "execution_count": 5,
      "metadata": {
        "id": "VtjoRbXwix00"
      },
      "outputs": [],
      "source": [
        "#preprocess numeric inputs\n",
        "#rating count\n",
        "df['rating_count'] = df['rating_count'].replace(',','',regex=True).astype('float64')\n",
        "df['rating_count'] = df['rating_count'].fillna(0) #replace NaN values with 0\n",
        "\n",
        "#actual price\n",
        "df['actual_price'] = df['actual_price'].replace(',','',regex=True)\n",
        "df['actual_price'] = df['actual_price'].replace('₹','',regex=True).astype('float64')\n",
        "#discounted price\n",
        "df['discounted_price'] = df['discounted_price'].replace(',','',regex=True)\n",
        "df['discounted_price'] = df['discounted_price'].replace('₹','',regex=True).astype('float64')\n",
        "#rating\n",
        "df['rating'] = df['rating'].replace('|', '4.0').astype('float64')\n"
      ]
    },
    {
      "attachments": {},
      "cell_type": "markdown",
      "metadata": {},
      "source": [
        "Sentiment from review"
      ]
    },
    {
      "cell_type": "code",
      "execution_count": 6,
      "metadata": {
        "colab": {
          "base_uri": "https://localhost:8080/",
          "height": 497
        },
        "id": "-OuPN_oaZK18",
        "outputId": "ab4de8ec-031f-4265-a3a2-deb522d70d8c"
      },
      "outputs": [
        {
          "name": "stderr",
          "output_type": "stream",
          "text": [
            "No model was supplied, defaulted to distilbert-base-uncased-finetuned-sst-2-english and revision af0f99b (https://huggingface.co/distilbert-base-uncased-finetuned-sst-2-english).\n",
            "Using a pipeline without specifying a model name and revision in production is not recommended.\n",
            "100%|██████████| 1465/1465 [00:20<00:00, 71.87it/s]\n"
          ]
        },
        {
          "data": {
            "text/html": [
              "<div>\n",
              "<style scoped>\n",
              "    .dataframe tbody tr th:only-of-type {\n",
              "        vertical-align: middle;\n",
              "    }\n",
              "\n",
              "    .dataframe tbody tr th {\n",
              "        vertical-align: top;\n",
              "    }\n",
              "\n",
              "    .dataframe thead th {\n",
              "        text-align: right;\n",
              "    }\n",
              "</style>\n",
              "<table border=\"1\" class=\"dataframe\">\n",
              "  <thead>\n",
              "    <tr style=\"text-align: right;\">\n",
              "      <th></th>\n",
              "      <th>review_title</th>\n",
              "      <th>sentiment</th>\n",
              "    </tr>\n",
              "  </thead>\n",
              "  <tbody>\n",
              "    <tr>\n",
              "      <th>0</th>\n",
              "      <td>Satisfied,Charging is really fast,Value for mo...</td>\n",
              "      <td>0.999341</td>\n",
              "    </tr>\n",
              "    <tr>\n",
              "      <th>1</th>\n",
              "      <td>A Good Braided Cable for Your Type C Device,Go...</td>\n",
              "      <td>-0.610361</td>\n",
              "    </tr>\n",
              "    <tr>\n",
              "      <th>2</th>\n",
              "      <td>Good speed for earlier versions,Good Product,W...</td>\n",
              "      <td>0.999560</td>\n",
              "    </tr>\n",
              "    <tr>\n",
              "      <th>3</th>\n",
              "      <td>Good product,Good one,Nice,Really nice product...</td>\n",
              "      <td>0.995654</td>\n",
              "    </tr>\n",
              "    <tr>\n",
              "      <th>4</th>\n",
              "      <td>As good as original,Decent,Good one for second...</td>\n",
              "      <td>0.999690</td>\n",
              "    </tr>\n",
              "    <tr>\n",
              "      <th>...</th>\n",
              "      <td>...</td>\n",
              "      <td>...</td>\n",
              "    </tr>\n",
              "    <tr>\n",
              "      <th>1460</th>\n",
              "      <td>Received the product without spanner,Excellent...</td>\n",
              "      <td>0.976231</td>\n",
              "    </tr>\n",
              "    <tr>\n",
              "      <th>1461</th>\n",
              "      <td>ok,everything was good couldn't return bcoz I ...</td>\n",
              "      <td>-0.954374</td>\n",
              "    </tr>\n",
              "    <tr>\n",
              "      <th>1462</th>\n",
              "      <td>very good,Work but front melt after 2 month,Go...</td>\n",
              "      <td>-0.909178</td>\n",
              "    </tr>\n",
              "    <tr>\n",
              "      <th>1463</th>\n",
              "      <td>Fan Speed is slow,Good quality,Good product,go...</td>\n",
              "      <td>0.997580</td>\n",
              "    </tr>\n",
              "    <tr>\n",
              "      <th>1464</th>\n",
              "      <td>Works perfect,Ok good product,Nice Product. Re...</td>\n",
              "      <td>0.994936</td>\n",
              "    </tr>\n",
              "  </tbody>\n",
              "</table>\n",
              "<p>1465 rows × 2 columns</p>\n",
              "</div>"
            ],
            "text/plain": [
              "                                           review_title  sentiment\n",
              "0     Satisfied,Charging is really fast,Value for mo...   0.999341\n",
              "1     A Good Braided Cable for Your Type C Device,Go...  -0.610361\n",
              "2     Good speed for earlier versions,Good Product,W...   0.999560\n",
              "3     Good product,Good one,Nice,Really nice product...   0.995654\n",
              "4     As good as original,Decent,Good one for second...   0.999690\n",
              "...                                                 ...        ...\n",
              "1460  Received the product without spanner,Excellent...   0.976231\n",
              "1461  ok,everything was good couldn't return bcoz I ...  -0.954374\n",
              "1462  very good,Work but front melt after 2 month,Go...  -0.909178\n",
              "1463  Fan Speed is slow,Good quality,Good product,go...   0.997580\n",
              "1464  Works perfect,Ok good product,Nice Product. Re...   0.994936\n",
              "\n",
              "[1465 rows x 2 columns]"
            ]
          },
          "execution_count": 6,
          "metadata": {},
          "output_type": "execute_result"
        }
      ],
      "source": [
        "\n",
        "#sentiment analysis\n",
        "sentiment_pipeline = pipeline(\"sentiment-analysis\")\n",
        "sentiment = []\n",
        "for review in tqdm(dfText['review_title']):\n",
        "    #sentiment analysis using huggingface sentiment analyser\n",
        "\n",
        "    review_sentiment = sentiment_pipeline(review[:512])\n",
        "    #positive score if label='POSITIVE' else negative\n",
        "    if review_sentiment[0]['label'] == 'POSITIVE':\n",
        "        score = review_sentiment[0]['score']\n",
        "    else:\n",
        "        score = -1 * review_sentiment[0]['score']\n",
        "    sentiment.append(score)\n",
        "df['sentiment'] = sentiment\n",
        "\n",
        "df[['review_title','sentiment']]\n"
      ]
    },
    {
      "attachments": {},
      "cell_type": "markdown",
      "metadata": {},
      "source": [
        "Linear Regression"
      ]
    },
    {
      "cell_type": "code",
      "execution_count": 7,
      "metadata": {
        "colab": {
          "base_uri": "https://localhost:8080/"
        },
        "id": "ye4D3oj1fnl2",
        "outputId": "3295678e-254a-472e-a271-38a1db88b5ac"
      },
      "outputs": [
        {
          "name": "stdout",
          "output_type": "stream",
          "text": [
            "R2 Score:  0.9229431867304001\n",
            "Mean Squared Error:  0.0974400754107512\n"
          ]
        }
      ],
      "source": [
        "#multiple linear regression\n",
        "from sklearn.preprocessing import StandardScaler\n",
        "from sklearn.linear_model import LinearRegression\n",
        "from sklearn.metrics import r2_score\n",
        "\n",
        "scaler = StandardScaler()\n",
        "\n",
        "#add review sentiment as an input variable\n",
        "X = df[['actual_price', 'rating', 'rating_count', 'sentiment']]\n",
        "y = df['discounted_price']\n",
        "\n",
        "#normalise numeric inputs and output\n",
        "X = scaler.fit_transform(X)\n",
        "output_scaler = StandardScaler()\n",
        "y = output_scaler.fit_transform(np.array(y).reshape(-1,1))\n",
        "\n",
        "#train test split\n",
        "X_train, X_test, y_train, y_test = train_test_split(X, y, random_state = 21, test_size = 0.3)\n",
        "\n",
        "#fit multiple linear regression\n",
        "regss = LinearRegression()\n",
        "regss.fit(X_train, y_train)\n",
        "\n",
        "#predict and print R2\n",
        "y_pred = regss.predict(X_test)\n",
        "\n",
        "print('R2 Score: ', r2_score(y_test, y_pred))\n",
        "\n",
        "# print other metrics\n",
        "from sklearn.metrics import mean_squared_error, mean_absolute_error\n",
        "print('Mean Squared Error: ', mean_squared_error(y_test, y_pred))"
      ]
    },
    {
      "attachments": {},
      "cell_type": "markdown",
      "metadata": {},
      "source": [
        "Linear SVM"
      ]
    },
    {
      "cell_type": "code",
      "execution_count": 8,
      "metadata": {
        "colab": {
          "base_uri": "https://localhost:8080/"
        },
        "id": "ZF38QvCR9S--",
        "outputId": "53a23f7d-e940-4db9-8721-447eee7546ee"
      },
      "outputs": [
        {
          "name": "stdout",
          "output_type": "stream",
          "text": [
            "R2 Score:  0.9279244307643423\n",
            "Mean Squared Error:  0.09114118017083901\n"
          ]
        }
      ],
      "source": [
        "#SVM\n",
        "from sklearn.svm import SVR\n",
        "\n",
        "#fit on SVM regressor with Gaussian RBF kernel\n",
        "linear_svm = SVR(kernel = 'linear') #linear=0.927 or rbf=0.890\n",
        "linear_svm.fit(X_train, y_train)\n",
        "\n",
        "#predict and print R2\n",
        "y_pred = linear_svm.predict(X_test)\n",
        "print('R2 Score: ', r2_score(y_test, y_pred))\n",
        "print('Mean Squared Error: ', mean_squared_error(y_test, y_pred))"
      ]
    },
    {
      "attachments": {},
      "cell_type": "markdown",
      "metadata": {},
      "source": [
        "RBF SVM"
      ]
    },
    {
      "cell_type": "code",
      "execution_count": 9,
      "metadata": {},
      "outputs": [
        {
          "name": "stdout",
          "output_type": "stream",
          "text": [
            "R2 Score:  0.890197353163139\n",
            "Mean Squared Error:  0.13884791927029783\n"
          ]
        }
      ],
      "source": [
        "#SVM\n",
        "from sklearn.svm import SVR\n",
        "\n",
        "#fit on SVM regressor with Gaussian RBF kernel\n",
        "rbf_svm = SVR(kernel = 'rbf') #linear=0.927 or rbf=0.890\n",
        "rbf_svm.fit(X_train, y_train)\n",
        "\n",
        "#predict and print R2\n",
        "y_pred = rbf_svm.predict(X_test)\n",
        "print('R2 Score: ', r2_score(y_test, y_pred))\n",
        "print('Mean Squared Error: ', mean_squared_error(y_test, y_pred))"
      ]
    },
    {
      "attachments": {},
      "cell_type": "markdown",
      "metadata": {},
      "source": [
        "Random Forest"
      ]
    },
    {
      "cell_type": "code",
      "execution_count": 10,
      "metadata": {},
      "outputs": [
        {
          "name": "stdout",
          "output_type": "stream",
          "text": [
            "R2 Score:  0.9266792836479116\n",
            "Mean Squared Error:  0.09271569673562345\n"
          ]
        }
      ],
      "source": [
        "# build a random forest regressor\n",
        "from sklearn.ensemble import RandomForestRegressor\n",
        "\n",
        "#fit on random forest regressor\n",
        "rf = RandomForestRegressor(n_estimators = 100, random_state = 0)\n",
        "rf.fit(X_train, y_train)\n",
        "\n",
        "#predict and print R2\n",
        "y_pred = rf.predict(X_test)\n",
        "print('R2 Score: ', r2_score(y_test, y_pred))\n",
        "print('Mean Squared Error: ', mean_squared_error(y_test, y_pred))\n",
        "\n",
        "\n"
      ]
    },
    {
      "attachments": {},
      "cell_type": "markdown",
      "metadata": {},
      "source": [
        "We select Random Forest as our final model selection, we build a predictor function for demonstration."
      ]
    },
    {
      "cell_type": "code",
      "execution_count": 15,
      "metadata": {},
      "outputs": [
        {
          "name": "stdout",
          "output_type": "stream",
          "text": [
            "actual price:  499.0\n",
            "rating:  3.3\n",
            "rating count:  2804.0\n",
            "review:  No TRRS to TRS converter in the box,Not suitable for DSLR camera,Good for beginners,OK,Don't buy,For beginners it's good,Average product,It is a good and useful mic for YouTube content maker\n",
            "\n",
            "suggested discounted price: 185.66000000000076\n",
            "actual discounted price:  199.0\n"
          ]
        }
      ],
      "source": [
        "import random\n",
        "\n",
        "\n",
        "\n",
        "def predict(actual_price, rating, rating_count, review):\n",
        "    #sentiment analysis\n",
        "    rev_sent = sentiment_pipeline(review[:512])\n",
        "    #positive score if label='POSITIVE' else negative\n",
        "    if (rev_sent[0]['label'] == 'POSITIVE'):\n",
        "        sentiment = review_sentiment[0]['score']\n",
        "    else:\n",
        "        sentiment = -1 * review_sentiment[0]['score']\n",
        "\n",
        "    input = [[actual_price, rating, rating_count, sentiment]]\n",
        "    Xnew = scaler.transform(input)\n",
        "\n",
        "    # make a prediction\n",
        "    ynew = rf.predict(Xnew)\n",
        "\n",
        "    ynew = output_scaler.inverse_transform(ynew.reshape(1, -1))\n",
        "\n",
        "    print('actual price: ', actual_price)\n",
        "    print('rating: ', rating)\n",
        "    print('rating count: ', rating_count)\n",
        "    print('review: ', review)\n",
        "    print(\"\")\n",
        "    print(f'suggested discounted price: {ynew[0][0]}')\n",
        "\n",
        "\n",
        "rand_idx = random.randint(0, len(df))\n",
        "actual_price = df.iloc[rand_idx]['actual_price']\n",
        "rating = df.iloc[rand_idx]['rating']\n",
        "rating_count = df.iloc[rand_idx]['rating_count']\n",
        "review = df.iloc[rand_idx]['review_title']\n",
        "actual_discounted_price = df.iloc[rand_idx]['discounted_price']\n",
        "\n",
        "predict(actual_price, rating, rating_count, review)\n",
        "\n",
        "print('actual discounted price: ', actual_discounted_price)"
      ]
    },
    {
      "cell_type": "code",
      "execution_count": null,
      "metadata": {},
      "outputs": [],
      "source": []
    }
  ],
  "metadata": {
    "colab": {
      "authorship_tag": "ABX9TyPGefCmy2mFOjeBNNJmwLgG",
      "include_colab_link": true,
      "mount_file_id": "1mHHvEHYOdUfXSvZagy34_0gRNpCq-JLc",
      "provenance": []
    },
    "kernelspec": {
      "display_name": "Python 3",
      "name": "python3"
    },
    "language_info": {
      "codemirror_mode": {
        "name": "ipython",
        "version": 3
      },
      "file_extension": ".py",
      "mimetype": "text/x-python",
      "name": "python",
      "nbconvert_exporter": "python",
      "pygments_lexer": "ipython3",
      "version": "3.8.16"
    }
  },
  "nbformat": 4,
  "nbformat_minor": 0
}
