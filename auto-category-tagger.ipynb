{
  "cells": [
    {
      "attachments": {},
      "cell_type": "markdown",
      "metadata": {
        "colab_type": "text",
        "id": "view-in-github"
      },
      "source": [
        "<a href=\"https://colab.research.google.com/github/Ivan-KKH/APAI4011_GP/blob/master/predicting_category.ipynb\" target=\"_parent\"><img src=\"https://colab.research.google.com/assets/colab-badge.svg\" alt=\"Open In Colab\"/></a>"
      ]
    },
    {
      "cell_type": "code",
      "execution_count": 2,
      "metadata": {
        "id": "ObWn2EbyFv_a"
      },
      "outputs": [
        {
          "name": "stderr",
          "output_type": "stream",
          "text": [
            "2023-05-07 00:25:35.169175: I tensorflow/tsl/cuda/cudart_stub.cc:28] Could not find cuda drivers on your machine, GPU will not be used.\n",
            "2023-05-07 00:25:35.217447: I tensorflow/tsl/cuda/cudart_stub.cc:28] Could not find cuda drivers on your machine, GPU will not be used.\n",
            "2023-05-07 00:25:35.218358: I tensorflow/core/platform/cpu_feature_guard.cc:182] This TensorFlow binary is optimized to use available CPU instructions in performance-critical operations.\n",
            "To enable the following instructions: AVX2 AVX512F FMA, in other operations, rebuild TensorFlow with the appropriate compiler flags.\n",
            "2023-05-07 00:25:35.799262: W tensorflow/compiler/tf2tensorrt/utils/py_utils.cc:38] TF-TRT Warning: Could not find TensorRT\n"
          ]
        }
      ],
      "source": [
        "#from google.colab import files\n",
        "import numpy as np\n",
        "import pandas as pd\n",
        "import io\n",
        "import re\n",
        "from string import punctuation\n",
        "from sklearn.feature_extraction.text import CountVectorizer\n",
        "from keras.preprocessing.text import Tokenizer\n",
        "from keras.utils import pad_sequences\n",
        "from keras.layers import Bidirectional\n",
        "import warnings\n",
        "import random\n",
        "warnings.filterwarnings(\"ignore\")"
      ]
    },
    {
      "cell_type": "code",
      "execution_count": 3,
      "metadata": {
        "colab": {
          "base_uri": "https://localhost:8080/",
          "height": 76
        },
        "id": "osq4rvsIFzCH",
        "outputId": "2115e664-b341-4183-ab7f-d2ad8899482c"
      },
      "outputs": [],
      "source": [
        "#uploaded = files.upload()"
      ]
    },
    {
      "cell_type": "code",
      "execution_count": 4,
      "metadata": {
        "id": "L9uv8KXfGLx7"
      },
      "outputs": [],
      "source": [
        "#read csv file\n",
        "#df = pd.read_csv(io.BytesIO(uploaded['amazon.csv']))\n",
        "df = pd.read_csv('amazon.csv')\n",
        "#dfReview for review title and review content\n",
        "dfText = df[['product_name','about_product','category']]"
      ]
    },
    {
      "cell_type": "code",
      "execution_count": 5,
      "metadata": {
        "id": "hP6eO3KgHK77"
      },
      "outputs": [],
      "source": [
        "for column in range(2):\n",
        "  dfText.iloc[:,column] = dfText.iloc[:,column].apply(lambda x: x.lower())\n",
        "  dfText.iloc[:,column] = dfText.iloc[:,column].apply((lambda x: re.sub(r\"http\\S+\",\" \",x)))\n",
        "  dfText.iloc[:,column] = dfText.iloc[:,column].apply((lambda x: re.sub('[^a-zA-z0-9\\s]',\" \",x)))\n",
        "dfText['category'] = dfText['category'].apply(lambda x: x.split('|',1)[0])\n",
        "\n",
        "#combine product_name and about_product\n",
        "dfText['combined'] = dfText['product_name'] + ' ' + dfText['about_product']"
      ]
    },
    {
      "cell_type": "code",
      "execution_count": 6,
      "metadata": {
        "colab": {
          "base_uri": "https://localhost:8080/"
        },
        "id": "pmmCvkPVJ53x",
        "outputId": "85f88555-d558-4a5e-86ec-6af00c09c8ac"
      },
      "outputs": [
        {
          "name": "stdout",
          "output_type": "stream",
          "text": [
            "category list: ['Computers&Accessories', 'Electronics', 'MusicalInstruments', 'OfficeProducts', 'Home&Kitchen', 'HomeImprovement', 'Toys&Games', 'Car&Motorbike', 'Health&PersonalCare']\n",
            "shape of text: (1465, 424)\n",
            "shape of category: (1465, 9)\n"
          ]
        }
      ],
      "source": [
        "#tokenize, build vocab, and add paddings on product_name\n",
        "tokenizer = Tokenizer(num_words=2000,split=' ')\n",
        "tokenizer.fit_on_texts(dfText['combined'].values)\n",
        "text = tokenizer.texts_to_sequences(dfText['combined'].values)\n",
        "text = pad_sequences(text)\n",
        "\n",
        "#category\n",
        "category_list = []\n",
        "for categ in dfText['category']:\n",
        "  if categ not in category_list:\n",
        "    category_list.append(categ)\n",
        "print(f'category list: {category_list}')\n",
        "category = pd.get_dummies(dfText['category'], columns=category_list).values\n",
        "category_list = ['Car & Motorbike', 'Computers & Accessories', 'Electronics', 'Health & Personal Care', 'Home & Kitchen', 'Home Improvement', 'Musical Instruments', 'Office Products', 'Toys & Games']\n",
        "\n",
        "print(f'shape of text: {text.shape}')\n",
        "print(f'shape of category: {category.shape}')\n"
      ]
    },
    {
      "cell_type": "code",
      "execution_count": 7,
      "metadata": {
        "id": "Fn8_2SbpKZV3"
      },
      "outputs": [],
      "source": [
        "from keras.layers import Input, Embedding, LSTM, Dense, concatenate, Flatten, Reshape, SpatialDropout1D\n",
        "from keras.models import Sequential\n",
        "from sklearn.model_selection import train_test_split"
      ]
    },
    {
      "cell_type": "code",
      "execution_count": 8,
      "metadata": {
        "colab": {
          "base_uri": "https://localhost:8080/"
        },
        "id": "t3SZLplpLmvS",
        "outputId": "b6d1bed9-d561-4eb4-a874-28d2f6527ffb"
      },
      "outputs": [
        {
          "name": "stdout",
          "output_type": "stream",
          "text": [
            "(1172, 424) (1172, 9)\n",
            "(293, 424) (293, 9)\n"
          ]
        },
        {
          "name": "stderr",
          "output_type": "stream",
          "text": [
            "2023-05-07 00:25:37.130287: W tensorflow/core/common_runtime/gpu/gpu_device.cc:1956] Cannot dlopen some GPU libraries. Please make sure the missing libraries mentioned above are installed properly if you would like to use GPU. Follow the guide at https://www.tensorflow.org/install/gpu for how to download and setup the required libraries for your platform.\n",
            "Skipping registering GPU devices...\n"
          ]
        },
        {
          "name": "stdout",
          "output_type": "stream",
          "text": [
            "Epoch 1/10\n",
            "37/37 [==============================] - 25s 576ms/step - loss: 1.3522 - accuracy: 0.3532 - val_loss: 1.1799 - val_accuracy: 0.3754\n",
            "Epoch 2/10\n",
            "37/37 [==============================] - 21s 573ms/step - loss: 0.7581 - accuracy: 0.6869 - val_loss: 0.5850 - val_accuracy: 0.8055\n",
            "Epoch 3/10\n",
            "37/37 [==============================] - 21s 572ms/step - loss: 0.4447 - accuracy: 0.8720 - val_loss: 0.4134 - val_accuracy: 0.8976\n",
            "Epoch 4/10\n",
            "37/37 [==============================] - 21s 570ms/step - loss: 0.2899 - accuracy: 0.9232 - val_loss: 0.3226 - val_accuracy: 0.9010\n",
            "Epoch 5/10\n",
            "37/37 [==============================] - 21s 574ms/step - loss: 0.2162 - accuracy: 0.9369 - val_loss: 0.2826 - val_accuracy: 0.9249\n",
            "Epoch 6/10\n",
            "37/37 [==============================] - 21s 572ms/step - loss: 0.1436 - accuracy: 0.9633 - val_loss: 0.2830 - val_accuracy: 0.9283\n",
            "Epoch 7/10\n",
            "37/37 [==============================] - 21s 573ms/step - loss: 0.0893 - accuracy: 0.9753 - val_loss: 0.2684 - val_accuracy: 0.9386\n",
            "Epoch 8/10\n",
            "37/37 [==============================] - 21s 569ms/step - loss: 0.0912 - accuracy: 0.9804 - val_loss: 0.3889 - val_accuracy: 0.9386\n",
            "Epoch 9/10\n",
            "37/37 [==============================] - 21s 571ms/step - loss: 0.1886 - accuracy: 0.9667 - val_loss: 0.2950 - val_accuracy: 0.9317\n",
            "Epoch 10/10\n",
            "37/37 [==============================] - 21s 572ms/step - loss: 0.1275 - accuracy: 0.9684 - val_loss: 0.3366 - val_accuracy: 0.9044\n"
          ]
        },
        {
          "data": {
            "text/plain": [
              "<keras.callbacks.History at 0x7f4fa0baaee0>"
            ]
          },
          "execution_count": 8,
          "metadata": {},
          "output_type": "execute_result"
        }
      ],
      "source": [
        "#split data\n",
        "X_train, X_test, Y_train, Y_test = train_test_split(text, category, test_size=0.2, random_state=42)\n",
        "print(X_train.shape,Y_train.shape)\n",
        "print(X_test.shape,Y_test.shape)\n",
        "\n",
        "#apply Bidirectional LSTM\n",
        "model = Sequential()\n",
        "model.add(Embedding(2000, 128, input_length = 424))\n",
        "model.add(SpatialDropout1D(0.4))\n",
        "model.add(Bidirectional(LSTM(196, dropout=0.2, recurrent_dropout=0.2)))\n",
        "model.add(Dense(9,activation='softmax'))\n",
        "model.compile(loss = 'categorical_crossentropy', optimizer='adam',metrics = ['accuracy'])\n",
        "\n",
        "#Train the model for 5 epoches with embedding matrix you obtained earlier.\n",
        "#print training loss and training accuracy for each epoch\n",
        "model.fit(X_train, Y_train, epochs=10, batch_size=32, validation_data=(X_test,Y_test))  \n"
      ]
    },
    {
      "cell_type": "code",
      "execution_count": 21,
      "metadata": {
        "colab": {
          "base_uri": "https://localhost:8080/"
        },
        "id": "z0POcrHSpOv0",
        "outputId": "fcb33978-a4b7-4fbc-f9ba-e0f900cc6d05"
      },
      "outputs": [
        {
          "name": "stdout",
          "output_type": "stream",
          "text": [
            "1/1 [==============================] - 0s 73ms/step\n",
            "Product name: fire boltt visionary 1 78  amoled bluetooth calling smartwat\n",
            "ch with 368 448 pixel resolution 100  sports mode  tws conne\n",
            "ction  voice assistance  spo2   heart rate monitoring\n",
            "\n",
            "Product description: fire boltt is india  no 1 wearable watch brand q122 by idc w\n",
            "orldwide quarterly wearable device tracker q122  bluetooth c\n",
            "alling watch   fire boltt visionary enables you to make and \n",
            "receive calls directly from your watch via the built in spea\n",
            "ker and microphone  this smartwatch features a dial pad opti\n",
            "on to access recent calls   sync your phone s contacts   1 7\n",
            "8  amoled display    fire boltt visionary has a premium 368 \n",
            "448 pixel resolution and 1 78  amoled display which comes wi\n",
            "th the always on feature   over 100 sports modes    walking \n",
            " running to tedious workout modes we have covered it all  fi\n",
            "re boltt visionary smartwatch does a wonderful tracking job \n",
            "to each sports mode the user carries out in the day or at th\n",
            "e gym   connect tws on the go   this smartwatch has an inter\n",
            "nal storage memory of about 128mb to store your songs and li\n",
            "sten to local music on your bluetooth headset  ai voice assi\n",
            "stance   command your watch and let the magic happen  this s\n",
            "pecial technology is in the fire boltt visionary smartwatch \n",
            " smart 360 health tracking    the fire boltt visionary smart\n",
            "watch comes with a complete package of health tracking featu\n",
            "res  from spo2 tracking to real time heart rate tracking sta\n",
            "y fit always  with the breathing exercise and women health t\n",
            "he smartwatch is fit for each use and purpose  ip68 water re\n",
            "sistant    the smartwatch is fit to withstand sweat  dust  d\n",
            "irt and sand and is resistant to submersion upto a maximum d\n",
            "epth of 1m of freshwater for up to twenty minutes   smart no\n",
            "tifications    keeping you notified on every second of all a\n",
            "ctivities through your social media connects  do not miss ou\n",
            "t on any notification that you receive on smartphone    remo\n",
            "te controls    click numerous pictures and listen to your fa\n",
            "vourite songs by just one touch   basic reminders    don t d\n",
            "rink water or walk in normal breaks we have got you covered \n",
            "in that too with the sedentary reminders you will alwasy sta\n",
            "y hydrated and will walk good  a step to a healthy life band\n",
            " material type  silicone  band color  black  human interface\n",
            " input  buttonstouch screen  included components  1 smartwat\n",
            "ch  1 manual  1 magnetic charger  1 warranty card  case mate\n",
            "rial type  metal  clasp type  tang buckle  color name  black\n",
            "  compatible devices  smartphonetablet the amoled provides o\n",
            "ver the line performance  it is thinner  lighter  flexible a\n",
            "nd one of the safest display technologies ever developed  ba\n",
            "nd width 20 millimeters water resistance depth 1 meters\n",
            "\n",
            "Predicted Category: Electronics\n",
            "Actual Category: Electronics\n"
          ]
        }
      ],
      "source": [
        "#auto category tagger function\n",
        "#choose a random product\n",
        "rand_idx = random.randint(0,len(df))\n",
        "product_name = dfText['product_name'][rand_idx]\n",
        "about_product = dfText['about_product'][rand_idx]\n",
        "\n",
        "#reshape the tokenised input\n",
        "input= np.reshape(text[rand_idx],(1, text[rand_idx].shape[0]))\n",
        "\n",
        "#predict the category\n",
        "pred = model.predict(input)\n",
        "max_idx = np.argmax(pred)\n",
        "predicted_category = category_list[max_idx]\n",
        "\n",
        "\n",
        "def insert_newline_every_n_chars(text, n=10):\n",
        "    new_text = ''\n",
        "    for i, char in enumerate(text):\n",
        "        new_text += char\n",
        "        if (i + 1) % n == 0 and i != len(text) - 1:\n",
        "            new_text += '\\n'\n",
        "    return new_text\n",
        "\n",
        "\n",
        "product_name = insert_newline_every_n_chars(product_name, 60)\n",
        "about_product = insert_newline_every_n_chars(about_product, 60)\n",
        "\n",
        "\n",
        "#print out the results\n",
        "actual_category = np.argmax(category[rand_idx])\n",
        "print(f\"Product name: {product_name}\")\n",
        "print(\"\")\n",
        "print(f\"Product description: {about_product}\")\n",
        "print(\"\")\n",
        "print(f'Predicted Category: {predicted_category}')\n",
        "print(f'Actual Category: {category_list[actual_category]}')"
      ]
    },
    {
      "cell_type": "code",
      "execution_count": null,
      "metadata": {},
      "outputs": [],
      "source": []
    }
  ],
  "metadata": {
    "accelerator": "GPU",
    "colab": {
      "authorship_tag": "ABX9TyPM5nM67PckZIyVwcB0fktt",
      "gpuType": "T4",
      "include_colab_link": true,
      "provenance": []
    },
    "gpuClass": "standard",
    "kernelspec": {
      "display_name": "Python 3",
      "name": "python3"
    },
    "language_info": {
      "codemirror_mode": {
        "name": "ipython",
        "version": 3
      },
      "file_extension": ".py",
      "mimetype": "text/x-python",
      "name": "python",
      "nbconvert_exporter": "python",
      "pygments_lexer": "ipython3",
      "version": "3.8.16"
    }
  },
  "nbformat": 4,
  "nbformat_minor": 0
}
